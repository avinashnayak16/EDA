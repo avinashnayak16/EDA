{
 "cells": [
  {
   "cell_type": "code",
   "execution_count": 8,
   "id": "9ebfc47a",
   "metadata": {},
   "outputs": [
    {
     "name": "stdout",
     "output_type": "stream",
     "text": [
      "\n",
      "\n",
      "\n",
      "\n"
     ]
    },
    {
     "ename": "NameError",
     "evalue": "name 'sub_out' is not defined",
     "output_type": "error",
     "traceback": [
      "\u001b[1;31m---------------------------------------------------------------------------\u001b[0m",
      "\u001b[1;31mNameError\u001b[0m                                 Traceback (most recent call last)",
      "File \u001b[1;32m<timed exec>:47\u001b[0m\n",
      "\u001b[1;31mNameError\u001b[0m: name 'sub_out' is not defined"
     ]
    }
   ],
   "source": [
    "%%time \n",
    "\n",
    "target = \"metastatic_diagnosis_period\"\n",
    "\n",
    "sub_list = \\\n",
    "[\n",
    "pd.read_csv(f\"v10.csv\", index_col = \"patient_id\"),\n",
    "pd.read_csv(f\"v12.csv\", index_col = \"patient_id\"),\n",
    "pd.read_csv(f\"p1.csv\", index_col = \"patient_id\"),\n",
    "pd.read_csv(f\"p10.csv\", index_col = \"patient_id\"),\n",
    "pd.read_csv(f\"p11.csv\", index_col = \"patient_id\"),\n",
    "pd.read_csv(f\"p12.csv\", index_col = \"patient_id\"),\n",
    "pd.read_csv(f\"p13.csv\", index_col = \"patient_id\"), \n",
    "pd.read_csv(f\"p14.csv\", index_col = \"patient_id\"),\n",
    "pd.read_csv(f\"p15.csv\", index_col = \"patient_id\"),  \n",
    "pd.read_csv(f\"p1.csv\", index_col = \"patient_id\"),\n",
    "pd.read_csv(f\"p2.csv\", index_col = \"patient_id\"),\n",
    "pd.read_csv(f\"p3.csv\", index_col = \"patient_id\"),\n",
    "pd.read_csv(f\"p4.csv\", index_col = \"patient_id\"),\n",
    "pd.read_csv(f\"p5.csv\", index_col = \"patient_id\"),\n",
    "pd.read_csv(f\"p6.csv\", index_col = \"patient_id\"),\n",
    "pd.read_csv(f\"p7.csv\", index_col = \"patient_id\"),\n",
    "pd.read_csv(f\"p8.csv\", index_col = \"patient_id\"),\n",
    "pd.read_csv(f\"p9.csv\", index_col = \"patient_id\"),\n",
    "pd.read_csv(f\"t1.csv\", index_col = \"patient_id\"),\n",
    "pd.read_csv(f\"te.csv\", index_col = \"patient_id\"), \n",
    "pd.read_csv(f\"test_data_with_pred.csv\", index_col = \"patient_id\"),\n",
    "\n",
    "];\n",
    "\n",
    "weights = [15, 9, 7, 5, 3, 3, 2, 2, 1,1,1,1,1,]\n",
    "\n",
    "sub_list = [item for sub_list, weight in zip(sub_list, weights) for item in [sub_list] * weight]\n",
    "#sub_out  = MakeEnsembleMean(sub_list, [target], \"HM\")\n",
    "\n",
    "print(\"\\n\\n\\n\")\n",
    "\n",
    "props = \\\n",
    "\"\"\"\n",
    "text-align:left;\n",
    "font-family:Cambria;\n",
    "font-weight:bold;\n",
    "font-style:italic;\n",
    "color: black;\n",
    "border:solid 2.5px maroon;\n",
    "background-color:lightgrey\n",
    "\"\"\";\n",
    "\n",
    "display(sub_out.\\\n",
    "        head(10).\\\n",
    "        style.format(precision = 5).\\\n",
    "        set_caption(f\"\\nFinal submission file after blend\\n\").\\\n",
    "        set_properties(subset = [target], props = props)\n",
    "       )\n",
    "sub_out.to_csv(f\"submission.csv\")\n",
    "\n",
    "print();\n",
    "collect();\n",
    "\n",
    "!ls/\n"
   ]
  },
  {
   "cell_type": "code",
   "execution_count": 2,
   "id": "ad148b15",
   "metadata": {},
   "outputs": [],
   "source": [
    "import pandas as pd"
   ]
  },
  {
   "cell_type": "code",
   "execution_count": 6,
   "id": "46c3ca2f",
   "metadata": {},
   "outputs": [
    {
     "ename": "ModuleNotFoundError",
     "evalue": "No module named 'module_name'",
     "output_type": "error",
     "traceback": [
      "\u001b[1;31m---------------------------------------------------------------------------\u001b[0m",
      "\u001b[1;31mModuleNotFoundError\u001b[0m                       Traceback (most recent call last)",
      "Cell \u001b[1;32mIn[6], line 1\u001b[0m\n\u001b[1;32m----> 1\u001b[0m \u001b[38;5;28;01mfrom\u001b[39;00m \u001b[38;5;21;01mmodule_name\u001b[39;00m \u001b[38;5;28;01mimport\u001b[39;00m MakeEnsembleMean\n",
      "\u001b[1;31mModuleNotFoundError\u001b[0m: No module named 'module_name'"
     ]
    }
   ],
   "source": [
    "from module_name import MakeEnsembleMean\n"
   ]
  },
  {
   "cell_type": "code",
   "execution_count": null,
   "id": "9b7c5894",
   "metadata": {},
   "outputs": [],
   "source": []
  }
 ],
 "metadata": {
  "kernelspec": {
   "display_name": "Python 3 (ipykernel)",
   "language": "python",
   "name": "python3"
  },
  "language_info": {
   "codemirror_mode": {
    "name": "ipython",
    "version": 3
   },
   "file_extension": ".py",
   "mimetype": "text/x-python",
   "name": "python",
   "nbconvert_exporter": "python",
   "pygments_lexer": "ipython3",
   "version": "3.11.5"
  }
 },
 "nbformat": 4,
 "nbformat_minor": 5
}
