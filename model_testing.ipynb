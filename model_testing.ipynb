{
 "cells": [
  {
   "cell_type": "code",
   "execution_count": null,
   "id": "c9fb3b09-985e-4177-9453-56871801b7be",
   "metadata": {},
   "outputs": [],
   "source": [
    "import pandas as pd\n",
    "\n",
    "data = pd.read_csv('train.csv')\n",
    "print(data.head())\n",
    "print(data.info())\n"
   ]
  },
  {
   "cell_type": "code",
   "execution_count": null,
   "id": "01aa38dd-a1fe-4758-829f-5ec35cddff55",
   "metadata": {},
   "outputs": [],
   "source": [
    "print(data.isnull().sum())\n",
    "# Impute or drop missing values\n",
    "data = data.dropna()  # Or use imputation methods\n"
   ]
  },
  {
   "cell_type": "code",
   "execution_count": null,
   "id": "94a86bda-0b04-4486-82fd-ed4f994bec35",
   "metadata": {},
   "outputs": [],
   "source": [
    "# Example: One-Hot Encoding for categorical variables\n",
    "data = pd.get_dummies(data, drop_first=True)\n"
   ]
  },
  {
   "cell_type": "code",
   "execution_count": null,
   "id": "2867da4a-915d-442f-93a2-2d6f2a6b68ca",
   "metadata": {},
   "outputs": [],
   "source": [
    "from sklearn.preprocessing import StandardScaler\n",
    "\n",
    "scaler = StandardScaler()\n",
    "scaled_features = scaler.fit_transform(data.drop(columns=['metastatic_diagnosis_period']))\n",
    "data_scaled = pd.DataFrame(scaled_features, columns=data.columns.drop('metastatic_diagnosis_period'))\n",
    "data_scaled['metastatic_diagnosis_period'] = data['metastatic_diagnosis_period']\n"
   ]
  },
  {
   "cell_type": "code",
   "execution_count": null,
   "id": "347ea267-2cc1-48a3-9712-e8fbc588d289",
   "metadata": {},
   "outputs": [],
   "source": [
    "import matplotlib.pyplot as plt\n",
    "import seaborn as sns\n",
    "\n",
    "sns.histplot(data['metastatic_diagnosis_period'])\n",
    "plt.show()\n",
    "\n",
    "sns.pairplot(data)\n",
    "plt.show()\n"
   ]
  },
  {
   "cell_type": "code",
   "execution_count": null,
   "id": "be87f917-5bae-4dd6-aaa3-e107b17d2f1d",
   "metadata": {},
   "outputs": [],
   "source": [
    "correlation_matrix = data.corr()\n",
    "sns.heatmap(correlation_matrix, annot=True)\n",
    "plt.show()\n"
   ]
  },
  {
   "cell_type": "code",
   "execution_count": null,
   "id": "7748fd32-0be2-45cf-a8c4-6353c2713588",
   "metadata": {},
   "outputs": [],
   "source": [
    "from sklearn.model_selection import train_test_split\n",
    "\n",
    "X = data_scaled.drop(columns=['metastatic_diagnosis_period'])\n",
    "y = data_scaled['metastatic_diagnosis_period']\n",
    "X_train, X_test, y_train, y_test = train_test_split(X, y, test_size=0.2, random_state=42)\n"
   ]
  },
  {
   "cell_type": "code",
   "execution_count": null,
   "id": "11d16464-d5fa-4242-8c14-d1d2fd764974",
   "metadata": {},
   "outputs": [],
   "source": [
    "from sklearn.linear_model import LinearRegression\n",
    "from sklearn.ensemble import RandomForestRegressor\n",
    "from sklearn.metrics import mean_squared_error\n",
    "\n",
    "# Example: Linear Regression\n",
    "lr_model = LinearRegression()\n",
    "lr_model.fit(X_train, y_train)\n",
    "y_pred_lr = lr_model.predict(X_test)\n",
    "lr_rmse = mean_squared_error(y_test, y_pred_lr, squared=False)\n",
    "print(f'Linear Regression RMSE: {lr_rmse}')\n",
    "\n",
    "# Example: Random Forest Regressor\n",
    "rf_model = RandomForestRegressor(random_state=42)\n",
    "rf_model.fit(X_train, y_train)\n",
    "y_pred_rf = rf_model.predict(X_test)\n",
    "rf_rmse = mean_squared_error(y_test, y_pred_rf, squared=False)\n",
    "print(f'Random Forest RMSE: {rf_rmse}')\n"
   ]
  },
  {
   "cell_type": "code",
   "execution_count": null,
   "id": "4f8b7f8e-5ad9-4d62-a2a7-06f6c012bf64",
   "metadata": {},
   "outputs": [],
   "source": [
    "from sklearn.model_selection import GridSearchCV\n",
    "\n",
    "param_grid = {\n",
    "    'n_estimators': [100, 200, 300],\n",
    "    'max_depth': [None, 10, 20, 30]\n",
    "}\n",
    "grid_search = GridSearchCV(estimator=rf_model, param_grid=param_grid, cv=5, scoring='neg_mean_squared_error')\n",
    "grid_search.fit(X_train, y_train)\n",
    "best_rf_model = grid_search.best_estimator_\n",
    "y_pred_best_rf = best_rf_model.predict(X_test)\n",
    "best_rf_rmse = mean_squared_error(y_test, y_pred_best_rf, squared=False)\n",
    "print(f'Best Random Forest RMSE: {best_rf_rmse}')\n"
   ]
  },
  {
   "cell_type": "code",
   "execution_count": null,
   "id": "1cc5acc2-b7d4-40cb-bd9a-2539a4183eac",
   "metadata": {},
   "outputs": [],
   "source": [
    "import joblib\n",
    "\n",
    "joblib.dump(best_rf_model, 'best_model.pkl')\n"
   ]
  }
 ],
 "metadata": {
  "kernelspec": {
   "display_name": "Python 3 (ipykernel)",
   "language": "python",
   "name": "python3"
  },
  "language_info": {
   "codemirror_mode": {
    "name": "ipython",
    "version": 3
   },
   "file_extension": ".py",
   "mimetype": "text/x-python",
   "name": "python",
   "nbconvert_exporter": "python",
   "pygments_lexer": "ipython3",
   "version": "3.11.5"
  }
 },
 "nbformat": 4,
 "nbformat_minor": 5
}
